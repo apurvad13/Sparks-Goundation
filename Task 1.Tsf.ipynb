{
 "cells": [
  {
   "cell_type": "markdown",
   "id": "3234c69c",
   "metadata": {},
   "source": [
    "# The Sparks Foundation "
   ]
  },
  {
   "cell_type": "markdown",
   "id": "939ff324",
   "metadata": {},
   "source": [
    "**#Task 1**"
   ]
  },
  {
   "cell_type": "markdown",
   "id": "b50f4f43",
   "metadata": {},
   "source": [
    "# problem statement - predict the percentage of student based on the number of study hours what will be the predicted score if a student studies for 9.25 hours/day"
   ]
  },
  {
   "cell_type": "markdown",
   "id": "0d17d270",
   "metadata": {},
   "source": [
    "# Linear Regression with Python Scikit Learn\n",
    "In this section we will see how the Python Scikit-Learn library for machine learning can be used to implement regression functions. We will start with simple linear regression involving two variables.\n",
    "\n",
    "Simple Linear Regression\n",
    "In this regression task we will predict the percentage of marks that a student is expected to score based upon the number of hours they studied. This is a simple linear regression task as it involves just two variables."
   ]
  },
  {
   "cell_type": "markdown",
   "id": "4d2f930f",
   "metadata": {},
   "source": [
    "**Author - Apurva Dabhadkar**\n",
    "\n",
    "In these regression task we will predict the percentage of marks that a student is expected to score based upon the number of hours they studied.These is a simple linear regression task as it involves just two variables"
   ]
  },
  {
   "cell_type": "markdown",
   "id": "a1bfd82b",
   "metadata": {},
   "source": [
    "**Importing Important Libraries**"
   ]
  },
  {
   "cell_type": "code",
   "execution_count": 3,
   "id": "72923915",
   "metadata": {},
   "outputs": [],
   "source": [
    "#import numpy libraries\n",
    "import numpy as np\n",
    "#import pandas \n",
    "import pandas as pd\n",
    "#import seaborn libraries\n",
    "import seaborn as sns\n",
    "#import matplotlib\n",
    "import matplotlib.pyplot as  plt\n",
    "\n",
    "import warnings\n",
    "warnings.filterwarnings('ignore')\n",
    "from sklearn.linear_model import LinearRegression\n",
    "from sklearn.model_selection import train_test_split\n",
    "from sklearn import metrics\n"
   ]
  },
  {
   "cell_type": "markdown",
   "id": "471d7535",
   "metadata": {},
   "source": [
    "**Loading File**"
   ]
  },
  {
   "cell_type": "code",
   "execution_count": 4,
   "id": "3adab9db",
   "metadata": {},
   "outputs": [
    {
     "data": {
      "text/html": [
       "<div>\n",
       "<style scoped>\n",
       "    .dataframe tbody tr th:only-of-type {\n",
       "        vertical-align: middle;\n",
       "    }\n",
       "\n",
       "    .dataframe tbody tr th {\n",
       "        vertical-align: top;\n",
       "    }\n",
       "\n",
       "    .dataframe thead th {\n",
       "        text-align: right;\n",
       "    }\n",
       "</style>\n",
       "<table border=\"1\" class=\"dataframe\">\n",
       "  <thead>\n",
       "    <tr style=\"text-align: right;\">\n",
       "      <th></th>\n",
       "      <th>Hours</th>\n",
       "      <th>Scores</th>\n",
       "    </tr>\n",
       "  </thead>\n",
       "  <tbody>\n",
       "    <tr>\n",
       "      <th>0</th>\n",
       "      <td>2.5</td>\n",
       "      <td>21</td>\n",
       "    </tr>\n",
       "    <tr>\n",
       "      <th>1</th>\n",
       "      <td>5.1</td>\n",
       "      <td>47</td>\n",
       "    </tr>\n",
       "    <tr>\n",
       "      <th>2</th>\n",
       "      <td>3.2</td>\n",
       "      <td>27</td>\n",
       "    </tr>\n",
       "    <tr>\n",
       "      <th>3</th>\n",
       "      <td>8.5</td>\n",
       "      <td>75</td>\n",
       "    </tr>\n",
       "    <tr>\n",
       "      <th>4</th>\n",
       "      <td>3.5</td>\n",
       "      <td>30</td>\n",
       "    </tr>\n",
       "  </tbody>\n",
       "</table>\n",
       "</div>"
      ],
      "text/plain": [
       "   Hours  Scores\n",
       "0    2.5      21\n",
       "1    5.1      47\n",
       "2    3.2      27\n",
       "3    8.5      75\n",
       "4    3.5      30"
      ]
     },
     "execution_count": 4,
     "metadata": {},
     "output_type": "execute_result"
    }
   ],
   "source": [
    "#read the file\n",
    "data = pd.read_csv('http://bit.ly/w-data')\n",
    "data.head()"
   ]
  },
  {
   "cell_type": "markdown",
   "id": "f63f30f8",
   "metadata": {},
   "source": [
    "**Checking Size**"
   ]
  },
  {
   "cell_type": "code",
   "execution_count": 5,
   "id": "e8923298",
   "metadata": {},
   "outputs": [
    {
     "data": {
      "text/plain": [
       "(25, 2)"
      ]
     },
     "execution_count": 5,
     "metadata": {},
     "output_type": "execute_result"
    }
   ],
   "source": [
    "#checking size\n",
    "data.shape"
   ]
  },
  {
   "cell_type": "markdown",
   "id": "41aa4f38",
   "metadata": {},
   "source": [
    "**Checking Data types**"
   ]
  },
  {
   "cell_type": "code",
   "execution_count": 6,
   "id": "d059848d",
   "metadata": {},
   "outputs": [
    {
     "name": "stdout",
     "output_type": "stream",
     "text": [
      "<class 'pandas.core.frame.DataFrame'>\n",
      "RangeIndex: 25 entries, 0 to 24\n",
      "Data columns (total 2 columns):\n",
      " #   Column  Non-Null Count  Dtype  \n",
      "---  ------  --------------  -----  \n",
      " 0   Hours   25 non-null     float64\n",
      " 1   Scores  25 non-null     int64  \n",
      "dtypes: float64(1), int64(1)\n",
      "memory usage: 528.0 bytes\n"
     ]
    }
   ],
   "source": [
    "#checking data types\n",
    "data.info()"
   ]
  },
  {
   "cell_type": "markdown",
   "id": "c7af9e09",
   "metadata": {},
   "source": [
    "**Interpretation**"
   ]
  },
  {
   "cell_type": "raw",
   "id": "f323ec89",
   "metadata": {},
   "source": [
    "There are two data types one is float and another is int type."
   ]
  },
  {
   "cell_type": "code",
   "execution_count": 7,
   "id": "033cffdf",
   "metadata": {},
   "outputs": [
    {
     "data": {
      "text/plain": [
       "Hours     float64\n",
       "Scores      int64\n",
       "dtype: object"
      ]
     },
     "execution_count": 7,
     "metadata": {},
     "output_type": "execute_result"
    }
   ],
   "source": [
    "#checking data types\n",
    "data.dtypes"
   ]
  },
  {
   "cell_type": "markdown",
   "id": "54ccd545",
   "metadata": {},
   "source": [
    "**CHecking Null Values**"
   ]
  },
  {
   "cell_type": "code",
   "execution_count": 8,
   "id": "acab7f34",
   "metadata": {},
   "outputs": [
    {
     "data": {
      "text/plain": [
       "Hours     0\n",
       "Scores    0\n",
       "dtype: int64"
      ]
     },
     "execution_count": 8,
     "metadata": {},
     "output_type": "execute_result"
    }
   ],
   "source": [
    "#checking null values\n",
    "data.isnull().sum()"
   ]
  },
  {
   "cell_type": "markdown",
   "id": "28fce7b9",
   "metadata": {},
   "source": [
    "**Interpretation**"
   ]
  },
  {
   "cell_type": "raw",
   "id": "3f78d092",
   "metadata": {},
   "source": [
    "There are no null values present in data."
   ]
  },
  {
   "cell_type": "markdown",
   "id": "654bd5af",
   "metadata": {},
   "source": [
    "**Summary of Data**"
   ]
  },
  {
   "cell_type": "code",
   "execution_count": 9,
   "id": "8ff948d1",
   "metadata": {},
   "outputs": [
    {
     "data": {
      "text/html": [
       "<div>\n",
       "<style scoped>\n",
       "    .dataframe tbody tr th:only-of-type {\n",
       "        vertical-align: middle;\n",
       "    }\n",
       "\n",
       "    .dataframe tbody tr th {\n",
       "        vertical-align: top;\n",
       "    }\n",
       "\n",
       "    .dataframe thead th {\n",
       "        text-align: right;\n",
       "    }\n",
       "</style>\n",
       "<table border=\"1\" class=\"dataframe\">\n",
       "  <thead>\n",
       "    <tr style=\"text-align: right;\">\n",
       "      <th></th>\n",
       "      <th>Hours</th>\n",
       "      <th>Scores</th>\n",
       "    </tr>\n",
       "  </thead>\n",
       "  <tbody>\n",
       "    <tr>\n",
       "      <th>count</th>\n",
       "      <td>25.000000</td>\n",
       "      <td>25.000000</td>\n",
       "    </tr>\n",
       "    <tr>\n",
       "      <th>mean</th>\n",
       "      <td>5.012000</td>\n",
       "      <td>51.480000</td>\n",
       "    </tr>\n",
       "    <tr>\n",
       "      <th>std</th>\n",
       "      <td>2.525094</td>\n",
       "      <td>25.286887</td>\n",
       "    </tr>\n",
       "    <tr>\n",
       "      <th>min</th>\n",
       "      <td>1.100000</td>\n",
       "      <td>17.000000</td>\n",
       "    </tr>\n",
       "    <tr>\n",
       "      <th>25%</th>\n",
       "      <td>2.700000</td>\n",
       "      <td>30.000000</td>\n",
       "    </tr>\n",
       "    <tr>\n",
       "      <th>50%</th>\n",
       "      <td>4.800000</td>\n",
       "      <td>47.000000</td>\n",
       "    </tr>\n",
       "    <tr>\n",
       "      <th>75%</th>\n",
       "      <td>7.400000</td>\n",
       "      <td>75.000000</td>\n",
       "    </tr>\n",
       "    <tr>\n",
       "      <th>max</th>\n",
       "      <td>9.200000</td>\n",
       "      <td>95.000000</td>\n",
       "    </tr>\n",
       "  </tbody>\n",
       "</table>\n",
       "</div>"
      ],
      "text/plain": [
       "           Hours     Scores\n",
       "count  25.000000  25.000000\n",
       "mean    5.012000  51.480000\n",
       "std     2.525094  25.286887\n",
       "min     1.100000  17.000000\n",
       "25%     2.700000  30.000000\n",
       "50%     4.800000  47.000000\n",
       "75%     7.400000  75.000000\n",
       "max     9.200000  95.000000"
      ]
     },
     "execution_count": 9,
     "metadata": {},
     "output_type": "execute_result"
    }
   ],
   "source": [
    "#checking data \n",
    "data.describe()"
   ]
  },
  {
   "cell_type": "markdown",
   "id": "137bae7e",
   "metadata": {},
   "source": [
    "**Relationship Between Hours and Percentage**"
   ]
  },
  {
   "cell_type": "code",
   "execution_count": 10,
   "id": "2ce4bb77",
   "metadata": {},
   "outputs": [
    {
     "data": {
      "image/png": "[encoded data removed]",
      "text/plain": [
       "<Figure size 432x288 with 1 Axes>"
      ]
     },
     "metadata": {},
     "output_type": "display_data"
    }
   ],
   "source": [
    "#set style\n",
    "sns.set(style = 'whitegrid')\n",
    "# Plotting the distribution of scores\n",
    "sns.scatterplot(x='Hours', y='Scores',data = data,color = 'red', marker = '*')  \n",
    "#set title\n",
    "plt.title('Hours vs Percentage',fontsize = 15)  \n",
    "plt.xlabel('Hours Studied')  \n",
    "plt.ylabel('Percentage Score')  \n",
    "plt.show()"
   ]
  },
  {
   "cell_type": "markdown",
   "id": "fe063e58",
   "metadata": {},
   "source": [
    "**Interpretation**"
   ]
  },
  {
   "cell_type": "raw",
   "id": "1e45fc1e",
   "metadata": {},
   "source": [
    "From above scatter plot that student who study for less hours scores less whereas student who study for more hours scores more. \n",
    "Basically the percentage of scores is more or less same as the number of hours input in study. Thus there is a positive linear correlation between the hours of study and percentage of scores."
   ]
  },
  {
   "cell_type": "markdown",
   "id": "356435a2",
   "metadata": {},
   "source": [
    "**Univariate Analysis**"
   ]
  },
  {
   "cell_type": "code",
   "execution_count": 11,
   "id": "5256a079",
   "metadata": {},
   "outputs": [],
   "source": [
    "col = ['Hours','Scores']"
   ]
  },
  {
   "cell_type": "code",
   "execution_count": 12,
   "id": "8519815e",
   "metadata": {},
   "outputs": [
    {
     "data": {
      "image/png": "[encoded data removed]",
      "text/plain": [
       "<Figure size 1224x720 with 2 Axes>"
      ]
     },
     "metadata": {},
     "output_type": "display_data"
    }
   ],
   "source": [
    "j=1\n",
    "plt.figure(figsize = (17,10))\n",
    "for i in col:\n",
    "    plt.subplot(3,4,j)\n",
    "    sns.distplot(data[i],color = 'green')\n",
    "    j=j+1\n",
    "plt.show()"
   ]
  },
  {
   "cell_type": "markdown",
   "id": "bbd567ed",
   "metadata": {},
   "source": [
    "The data is normally distributed"
   ]
  },
  {
   "cell_type": "markdown",
   "id": "db3cba8d",
   "metadata": {},
   "source": [
    "**Bivariate Analysis**"
   ]
  },
  {
   "cell_type": "code",
   "execution_count": 13,
   "id": "c845f20f",
   "metadata": {},
   "outputs": [
    {
     "data": {
      "image/png": "[encoded data removed]",
      "text/plain": [
       "<Figure size 576x576 with 6 Axes>"
      ]
     },
     "metadata": {},
     "output_type": "display_data"
    }
   ],
   "source": [
    "#plotting pairplot using seaborn library\n",
    "sns.pairplot(data, plot_kws = {'alpha': 0.6, 's': 80, 'edgecolor': 'k'},\n",
    "             size = 4)\n",
    "\n",
    "plt.show()"
   ]
  },
  {
   "cell_type": "markdown",
   "id": "a0d800e1",
   "metadata": {},
   "source": [
    "**Interpretation**"
   ]
  },
  {
   "cell_type": "raw",
   "id": "a9f3345b",
   "metadata": {},
   "source": [
    "We can see that there is linear relationship."
   ]
  },
  {
   "cell_type": "markdown",
   "id": "d0d8f972",
   "metadata": {},
   "source": [
    "# Checking for Outliers"
   ]
  },
  {
   "cell_type": "code",
   "execution_count": 14,
   "id": "2ba2e5b6",
   "metadata": {},
   "outputs": [
    {
     "data": {
      "image/png": "[encoded data removed]",
      "text/plain": [
       "<Figure size 576x360 with 2 Axes>"
      ]
     },
     "metadata": {},
     "output_type": "display_data"
    }
   ],
   "source": [
    "plt.figure(figsize = (8,5))\n",
    "j= 1\n",
    "for i in data.columns:\n",
    "    plt.subplot(2,1,j)\n",
    "    sns.boxplot(data[i],color = 'green')\n",
    "    j = j+1\n",
    "plt.show()"
   ]
  },
  {
   "cell_type": "markdown",
   "id": "f4d2296b",
   "metadata": {},
   "source": [
    "**Interpretation**"
   ]
  },
  {
   "cell_type": "raw",
   "id": "22827270",
   "metadata": {},
   "source": [
    "Hence there are no outliers,further outlier treatment is not requierd."
   ]
  },
  {
   "cell_type": "markdown",
   "id": "58b10593",
   "metadata": {},
   "source": [
    "# HEATMAP ANALYSIS:"
   ]
  },
  {
   "cell_type": "code",
   "execution_count": 15,
   "id": "e99ca315",
   "metadata": {},
   "outputs": [
    {
     "data": {
      "image/png": "[encoded data removed]",
      "text/plain": [
       "<Figure size 432x288 with 2 Axes>"
      ]
     },
     "metadata": {},
     "output_type": "display_data"
    }
   ],
   "source": [
    "\n",
    "#plotting heatmap using seaborn\n",
    "sns.heatmap(data.corr(),annot=True,cmap = 'coolwarm')\n",
    "plt.title('Heatmap Analysis of Scores')\n",
    "plt.show()"
   ]
  },
  {
   "cell_type": "markdown",
   "id": "afa79bbe",
   "metadata": {},
   "source": [
    "# Model Building"
   ]
  },
  {
   "cell_type": "code",
   "execution_count": 16,
   "id": "78a5d280",
   "metadata": {},
   "outputs": [],
   "source": [
    "X = data.iloc[:, :-1].values  \n",
    "y = data.iloc[:, 1].values  "
   ]
  },
  {
   "cell_type": "code",
   "execution_count": 17,
   "id": "7f3f819a",
   "metadata": {},
   "outputs": [],
   "source": [
    "from sklearn.model_selection import train_test_split\n",
    "#splitting the data using train test split\n",
    "X_train, X_test, y_train, y_test = train_test_split(X, y, test_size=0.2, random_state=0) "
   ]
  },
  {
   "cell_type": "code",
   "execution_count": 19,
   "id": "4790c7fb",
   "metadata": {},
   "outputs": [
    {
     "name": "stdout",
     "output_type": "stream",
     "text": [
      "X_train (20, 1)\n",
      "Y_train (20,)\n"
     ]
    }
   ],
   "source": [
    "print('X_train',X_train.shape)\n",
    "print('Y_train',y_train.shape)"
   ]
  },
  {
   "cell_type": "code",
   "execution_count": 20,
   "id": "bb6d285c",
   "metadata": {},
   "outputs": [
    {
     "name": "stdout",
     "output_type": "stream",
     "text": [
      "X_test (5, 1)\n",
      "y_test (5,)\n"
     ]
    }
   ],
   "source": [
    "print('X_test',X_test.shape)\n",
    "print('y_test',y_test.shape)"
   ]
  },
  {
   "cell_type": "markdown",
   "id": "388adc53",
   "metadata": {},
   "source": [
    "# Training the Algorithm"
   ]
  },
  {
   "cell_type": "code",
   "execution_count": 22,
   "id": "31ed1300",
   "metadata": {},
   "outputs": [],
   "source": [
    "# creating object of our LinearRegression model and assigning to a variable model\n",
    "model = LinearRegression()"
   ]
  },
  {
   "cell_type": "code",
   "execution_count": 24,
   "id": "c6d1dfbe",
   "metadata": {},
   "outputs": [
    {
     "name": "stdout",
     "output_type": "stream",
     "text": [
      "Linear Regression Model Trained Successfully!\n"
     ]
    }
   ],
   "source": [
    "# training our LinearRegression model\n",
    "model.fit(X_train, y_train)\n",
    "print('Linear Regression Model Trained Successfully!')"
   ]
  },
  {
   "cell_type": "code",
   "execution_count": 28,
   "id": "ea827808",
   "metadata": {},
   "outputs": [
    {
     "data": {
      "image/png": "[encoded data removed]",
      "text/plain": [
       "<Figure size 432x288 with 1 Axes>"
      ]
     },
     "metadata": {},
     "output_type": "display_data"
    }
   ],
   "source": [
    "# Plotting the regression line\n",
    "regression_line = regressor.coef_*X+regressor.intercept_\n",
    "\n",
    "# Plotting for the test data\n",
    "plt.scatter(X, y)\n",
    "plt.plot(X, line)\n",
    "plt.plot(X, regression_line, color='orange')\n",
    "#adding title & labels\n",
    "plt.title('Hours vs Percentage',fontsize =15)\n",
    "plt.xlabel('Hours Studied',fontsize =15)\n",
    "plt.ylabel('Percentage Score',fontsize =15)\n",
    "plt.show()"
   ]
  },
  {
   "cell_type": "markdown",
   "id": "0e1e2fab",
   "metadata": {},
   "source": [
    "# Making Predictions"
   ]
  },
  {
   "cell_type": "raw",
   "id": "94ade09f",
   "metadata": {},
   "source": [
    "Using the trained Linear Regression Model to predict scores for test data and compare the results"
   ]
  },
  {
   "cell_type": "code",
   "execution_count": 29,
   "id": "2f41e27d",
   "metadata": {},
   "outputs": [
    {
     "name": "stdout",
     "output_type": "stream",
     "text": [
      "[[1.5]\n",
      " [3.2]\n",
      " [7.4]\n",
      " [2.5]\n",
      " [5.9]]\n"
     ]
    }
   ],
   "source": [
    "print(X_test) # Testing data - In Hours\n",
    "y_pred = regressor.predict(X_test) # Predicting the scores"
   ]
  },
  {
   "cell_type": "markdown",
   "id": "959f8dd8",
   "metadata": {},
   "source": [
    "**Comparision of Actual Vs Predicted score**"
   ]
  },
  {
   "cell_type": "code",
   "execution_count": 31,
   "id": "627de703",
   "metadata": {},
   "outputs": [
    {
     "data": {
      "text/html": [
       "<div>\n",
       "<style scoped>\n",
       "    .dataframe tbody tr th:only-of-type {\n",
       "        vertical-align: middle;\n",
       "    }\n",
       "\n",
       "    .dataframe tbody tr th {\n",
       "        vertical-align: top;\n",
       "    }\n",
       "\n",
       "    .dataframe thead th {\n",
       "        text-align: right;\n",
       "    }\n",
       "</style>\n",
       "<table border=\"1\" class=\"dataframe\">\n",
       "  <thead>\n",
       "    <tr style=\"text-align: right;\">\n",
       "      <th></th>\n",
       "      <th>Actual Score</th>\n",
       "      <th>Predicted Score</th>\n",
       "    </tr>\n",
       "  </thead>\n",
       "  <tbody>\n",
       "    <tr>\n",
       "      <th>0</th>\n",
       "      <td>20</td>\n",
       "      <td>16.884145</td>\n",
       "    </tr>\n",
       "    <tr>\n",
       "      <th>1</th>\n",
       "      <td>27</td>\n",
       "      <td>33.732261</td>\n",
       "    </tr>\n",
       "    <tr>\n",
       "      <th>2</th>\n",
       "      <td>69</td>\n",
       "      <td>75.357018</td>\n",
       "    </tr>\n",
       "    <tr>\n",
       "      <th>3</th>\n",
       "      <td>30</td>\n",
       "      <td>26.794801</td>\n",
       "    </tr>\n",
       "    <tr>\n",
       "      <th>4</th>\n",
       "      <td>62</td>\n",
       "      <td>60.491033</td>\n",
       "    </tr>\n",
       "  </tbody>\n",
       "</table>\n",
       "</div>"
      ],
      "text/plain": [
       "   Actual Score  Predicted Score\n",
       "0            20        16.884145\n",
       "1            27        33.732261\n",
       "2            69        75.357018\n",
       "3            30        26.794801\n",
       "4            62        60.491033"
      ]
     },
     "execution_count": 31,
     "metadata": {},
     "output_type": "execute_result"
    }
   ],
   "source": [
    " # comparision Actual Score vs Predicted Score\n",
    "new_df = pd.DataFrame({'Actual Score': y_test, \n",
    "                       'Predicted Score': y_pred})\n",
    "new_df\n"
   ]
  },
  {
   "cell_type": "code",
   "execution_count": 34,
   "id": "fefdd4f0",
   "metadata": {},
   "outputs": [
    {
     "name": "stdout",
     "output_type": "stream",
     "text": [
      "Number of Hours = 9.25 hours/day\n",
      "Predicted Score = 93.69\n"
     ]
    }
   ],
   "source": [
    "# input_hours = input('Enter number of hours for predicting the score: ')\n",
    "input_hours = 9.25\n",
    "input_hours = float(input_hours)\n",
    "hours = np.array([input_hours])\n",
    "hours = hours.reshape(-1, 1)\n",
    "pred_score = model.predict(hours)\n",
    "print(\"Number of Hours =\", input_hours, 'hours/day')\n",
    "print(\"Predicted Score = {:.4}\".format(pred_score[0]))"
   ]
  },
  {
   "cell_type": "markdown",
   "id": "8cbfc367",
   "metadata": {},
   "source": [
    "# Evaluating the model"
   ]
  },
  {
   "cell_type": "code",
   "execution_count": 35,
   "id": "073234b0",
   "metadata": {},
   "outputs": [
    {
     "name": "stdout",
     "output_type": "stream",
     "text": [
      "Mean Absolute Error: 4.183859899002975\n"
     ]
    }
   ],
   "source": [
    "from sklearn import metrics  \n",
    "print('Mean Absolute Error:', \n",
    "      metrics.mean_absolute_error(y_test, y_pred)) "
   ]
  },
  {
   "cell_type": "code",
   "execution_count": 39,
   "id": "29af1e42",
   "metadata": {},
   "outputs": [],
   "source": [
    "from sklearn.metrics import mean_squared_error, mean_absolute_error,r2_score\n",
    "import math"
   ]
  },
  {
   "cell_type": "code",
   "execution_count": 40,
   "id": "f0a0199b",
   "metadata": {},
   "outputs": [
    {
     "name": "stdout",
     "output_type": "stream",
     "text": [
      "\n",
      "Mean Squared Error MSE: 21.5987693072174\n",
      "\n",
      "Root Mean Squared Error RMSE: 4.6474476121003665\n",
      "\n",
      "R2 Score: 0.9454906892105356\n"
     ]
    }
   ],
   "source": [
    "print('\\nMean Squared Error MSE:', mean_squared_error(y_test, y_pred))\n",
    "print('\\nRoot Mean Squared Error RMSE:', math.sqrt(mean_squared_error(y_test, y_pred)))\n",
    "print('\\nR2 Score:', r2_score(y_test, y_pred))"
   ]
  },
  {
   "cell_type": "markdown",
   "id": "4d2dbe6d",
   "metadata": {},
   "source": [
    "R2 Score is a statistical method that determines the goodness of fit.\n",
    "The high value of R-square determines the less difference between the predicted values and actual values and hence represents a good model."
   ]
  }
 ],
 "metadata": {
  "kernelspec": {
   "display_name": "Python 3",
   "language": "python",
   "name": "python3"
  },
  "language_info": {
   "codemirror_mode": {
    "name": "ipython",
    "version": 3
   },
   "file_extension": ".py",
   "mimetype": "text/x-python",
   "name": "python",
   "nbconvert_exporter": "python",
   "pygments_lexer": "ipython3",
   "version": "3.8.8"
  }
 },
 "nbformat": 4,
 "nbformat_minor": 5
}
